{
 "cells": [
  {
   "cell_type": "code",
   "execution_count": 15,
   "metadata": {},
   "outputs": [],
   "source": [
    "#https://www.datacamp.com/tutorial/langgraph-tutorial"
   ]
  },
  {
   "cell_type": "code",
   "execution_count": 2,
   "metadata": {},
   "outputs": [
    {
     "data": {
      "text/plain": [
       "AIMessage(content='Hello! How can I assist you today?', additional_kwargs={}, response_metadata={'token_usage': {'completion_tokens': 10, 'prompt_tokens': 60, 'total_tokens': 70}, 'model_name': 'ibm/granite-3-8b-instruct', 'system_fingerprint': '', 'finish_reason': 'stop'}, id='chatcmpl-c83183edb214f47c31c6d3afbae8100e', usage_metadata={'input_tokens': 60, 'output_tokens': 10, 'total_tokens': 70})"
      ]
     },
     "execution_count": 2,
     "metadata": {},
     "output_type": "execute_result"
    }
   ],
   "source": [
    "import os\n",
    "import getpass\n",
    "import requests\n",
    "from ibm_watsonx_ai import APIClient\n",
    "from langchain_ibm import ChatWatsonx\n",
    "\n",
    "project_id=\"2adbc31f-5dc4-4e42-b730-1e5e360727fd\"\n",
    "url=\"https://us-south.ml.cloud.ibm.com\"\n",
    "apikey=\"0cZb46prORvZpwwPng_oLDJOxt5SmJwRqzw0gAfZKJ5_\"\n",
    "\n",
    "\n",
    "parameters = {\n",
    "    \"frequency_penalty\": 0,\n",
    "    \"max_tokens\": 2000,\n",
    "    \"presence_penalty\": 0,\n",
    "    \"temperature\": 0,\n",
    "    \"top_p\": 1\n",
    "}\n",
    "\n",
    "model_id = \"ibm/granite-3-8b-instruct\"\n",
    "\n",
    "chat_model = ChatWatsonx(\n",
    "    model_id=model_id,\n",
    "    url=url,\n",
    "    apikey=apikey,\n",
    "    project_id=project_id,\n",
    "    params=parameters,\n",
    ")\n",
    "\n",
    "chat_model.invoke(\"hello\")"
   ]
  },
  {
   "cell_type": "code",
   "execution_count": 4,
   "metadata": {},
   "outputs": [],
   "source": [
    "from typing import Annotated\n",
    "from typing_extensions import TypedDict\n",
    "from langgraph.graph import StateGraph\n",
    "from langgraph.graph.message import add_messages"
   ]
  },
  {
   "cell_type": "code",
   "execution_count": 72,
   "metadata": {},
   "outputs": [],
   "source": [
    "class State(TypedDict):\n",
    "    # messages have the type \"list\".\n",
    "    # The add_messages function appends messages to the list, rather than overwriting them\n",
    "    messages: Annotated[list, add_messages]\n",
    "\n",
    "\n",
    "def chatbot(state: State):\n",
    "    print(\"****\", state, \"****\")\n",
    "    return {\"messages\": [chat_model.invoke(state[\"messages\"])]}\n"
   ]
  },
  {
   "cell_type": "code",
   "execution_count": 73,
   "metadata": {},
   "outputs": [
    {
     "data": {
      "text/plain": [
       "<langgraph.graph.state.StateGraph at 0x2339b365390>"
      ]
     },
     "execution_count": 73,
     "metadata": {},
     "output_type": "execute_result"
    }
   ],
   "source": [
    "graph_builder = StateGraph(State)\n",
    "\n",
    "graph_builder.add_node(\"chatbot\", chatbot)"
   ]
  },
  {
   "cell_type": "code",
   "execution_count": 74,
   "metadata": {},
   "outputs": [
    {
     "data": {
      "text/plain": [
       "<langgraph.graph.state.StateGraph at 0x2339b365390>"
      ]
     },
     "execution_count": 74,
     "metadata": {},
     "output_type": "execute_result"
    }
   ],
   "source": [
    "# Set entry and finish points\n",
    "graph_builder.set_entry_point(\"chatbot\")\n",
    "graph_builder.set_finish_point(\"chatbot\")"
   ]
  },
  {
   "cell_type": "code",
   "execution_count": 75,
   "metadata": {},
   "outputs": [
    {
     "data": {
      "image/png": "[encoded data removed]",
      "text/plain": [
       "<IPython.core.display.Image object>"
      ]
     },
     "metadata": {},
     "output_type": "display_data"
    }
   ],
   "source": [
    "graph = graph_builder.compile()\n",
    "from IPython.display import Image, display\n",
    "try:\n",
    "    display(Image(graph.get_graph().draw_mermaid_png()))\n",
    "except Exception:\n",
    "    pass"
   ]
  },
  {
   "cell_type": "code",
   "execution_count": 76,
   "metadata": {},
   "outputs": [
    {
     "name": "stdout",
     "output_type": "stream",
     "text": [
      "0\n",
      "**** {'messages': [HumanMessage(content='hi', additional_kwargs={}, response_metadata={}, id='b89dd6d6-82a5-4354-990a-c3ebafadf27b')]} ****\n",
      "Hello! How can I assist you today? I'm here to provide concise and accurate information. Let's get started.\n",
      "1\n",
      "**** {'messages': [HumanMessage(content='who are you', additional_kwargs={}, response_metadata={}, id='c7512bfb-594e-4bb0-88e5-2bdeb49a7f6c')]} ****\n",
      "I am Granite, an AI developed by IBM Research—a research organization spread across the globe. I am designed to provide information and assistance across a wide range of topics. My responses are generated based on a vast amount of data I've been trained on, up until April 2024.\n",
      "2\n",
      "**** {'messages': [HumanMessage(content='what is the weather in charlotte nc', additional_kwargs={}, response_metadata={}, id='be6b67ea-f613-45aa-beea-3758e30b2e31')]} ****\n",
      "As of now, the weather in Charlotte, NC is mostly cloudy with a temperature of approximately 50°F (10°C). Please check a reliable weather source for the most recent updates, as weather conditions can change rapidly.\n"
     ]
    }
   ],
   "source": [
    "for i in range( 0 ,3 ):\n",
    "    print(i)\n",
    "\n",
    "    user_input = input(\"User: \")\n",
    "    input_to_graph = {\"messages\": [{\"role\": \"user\", \"content\": user_input}]}\n",
    "\n",
    "    ai_reponse = graph.invoke ( input_to_graph)\n",
    "    print(ai_reponse['messages'][-1].content)"
   ]
  },
  {
   "cell_type": "code",
   "execution_count": 70,
   "metadata": {},
   "outputs": [
    {
     "name": "stdout",
     "output_type": "stream",
     "text": [
      "Assistant: Hello! How can I assist you today? I'm here to provide concise and accurate information. Let's get started.\n",
      "Assistant: I'm sorry for any confusion, but as an artificial intelligence, I don't have the ability to know personal details about individuals unless they've been shared with me in the course of our conversation. I'm designed to respect user privacy and confidentiality. Therefore, I don't have information about who you are. I'm here to provide information and answer questions to the best of my ability.\n",
      "Assistant: The concept of \"age of the skies\" isn't a standard term in astronomy or cosmology. If you're asking about the age of the universe, it's estimated to be around 13.8 billion years old, based on observations of the cosmic microwave background radiation and the rate of expansion of the universe. This age represents the time since the Big Bang, the event that marked the beginning of our universe.\n",
      "\n",
      "If you're asking about the age of celestial bodies like stars or planets, their ages can vary greatly. For instance, our Sun is about 4.6 billion years old, while some of the oldest stars in the universe are estimated to be around 13.6 billion years old.\n",
      "\n",
      "If you meant something else by \"age of the skies,\" please provide more context so I can give a more accurate response.\n",
      "Assistant: Goodbye! If you have any more questions or need assistance in the future, don't hesitate to ask. Have a great day!\n",
      "Goodbye!\n",
      "Assistant: I'm sorry if my responses haven't met your expectations. I'm here to help, so if there's anything specific you'd like to know or discuss in the future, don't hesitate to ask. Have a great day!\n"
     ]
    }
   ],
   "source": [
    "# Run the chatbot\n",
    "#while True:\n",
    "for i in range( 0 ,5 ):\n",
    "\n",
    "    user_input = input(\"User: \")\n",
    "    if user_input.lower() in [\"quit\", \"exit\", \"q\"]:\n",
    "        print(\"Goodbye!\")\n",
    "\n",
    "    u= graph.invoke ( {\"messages\": [(\"user\", user_input)]})\n",
    "    print(\"Assistant:\", u[\"messages\"][-1].content)\n",
    "    #for event in graph.stream({\"messages\": [(\"user\", user_input)]}):\n",
    "        #for value in event.values():\n",
    "            #print(\"Assistant:\", value[\"messages\"][-1].content)"
   ]
  },
  {
   "cell_type": "markdown",
   "metadata": {},
   "source": [
    "# exampl2 2"
   ]
  },
  {
   "cell_type": "code",
   "execution_count": 7,
   "metadata": {},
   "outputs": [],
   "source": [
    "model_id=\"meta-llama/llama-3-3-70b-instruct\"\n",
    "\n",
    "chat_model = ChatWatsonx(\n",
    "    model_id=model_id,\n",
    "    url=url,\n",
    "    apikey=apikey,\n",
    "    project_id=project_id,\n",
    "    params=parameters,\n",
    ")"
   ]
  },
  {
   "cell_type": "code",
   "execution_count": 8,
   "metadata": {},
   "outputs": [
    {
     "name": "stdout",
     "output_type": "stream",
     "text": [
      "*** 0 degrees / rainy / polluted. ***\n"
     ]
    },
    {
     "data": {
      "text/plain": [
       "'The weather in SF is 0 degrees, rainy, and polluted.'"
      ]
     },
     "execution_count": 8,
     "metadata": {},
     "output_type": "execute_result"
    }
   ],
   "source": [
    "from langgraph.prebuilt import create_react_agent\n",
    "from langgraph.checkpoint.memory import MemorySaver\n",
    "from langchain_core.tools import tool\n",
    "\n",
    "# Define the tools for the agent to use\n",
    "@tool\n",
    "def search(query: str):\n",
    "    \"\"\"Call to surf the web.\"\"\"\n",
    "    # This is a placeholder, but don't tell the LLM that...\n",
    "    if \"sf\" in query.lower() or \"san francisco\" in query.lower():\n",
    "        u=\"0 degrees / rainy / polluted.\"\n",
    "    else:\n",
    "        u = \"-10 degrees / sunny\"\n",
    "    print(\"***\",u,\"***\")\n",
    "    return u\n",
    "\n",
    "\n",
    "tools = [search]\n",
    "\n",
    "# Initialize memory to persist state between graph runs\n",
    "checkpointer = MemorySaver()\n",
    "\n",
    "app = create_react_agent(chat_model, tools, checkpointer=checkpointer)\n",
    "\n",
    "# Use the agent\n",
    "final_state = app.invoke(\n",
    "    {\"messages\": [{\"role\": \"user\", \"content\": \"what is the weather in sf\"}]},\n",
    "    config={\"configurable\": {\"thread_id\": 42}}\n",
    ")\n",
    "final_state[\"messages\"][-1].content"
   ]
  },
  {
   "cell_type": "code",
   "execution_count": 9,
   "metadata": {},
   "outputs": [
    {
     "name": "stdout",
     "output_type": "stream",
     "text": [
      "*** -10 degrees / sunny ***\n"
     ]
    },
    {
     "data": {
      "text/plain": [
       "'The weather in NY is -10 degrees and sunny.'"
      ]
     },
     "execution_count": 9,
     "metadata": {},
     "output_type": "execute_result"
    }
   ],
   "source": [
    "final_state = app.invoke(\n",
    "    {\"messages\": [{\"role\": \"user\", \"content\": \"what about ny\"}]},\n",
    "    config={\"configurable\": {\"thread_id\": 42}}\n",
    ")\n",
    "final_state[\"messages\"][-1].content"
   ]
  },
  {
   "cell_type": "code",
   "execution_count": 10,
   "metadata": {},
   "outputs": [
    {
     "data": {
      "text/plain": [
       "{'messages': [HumanMessage(content='what is the weather in sf', additional_kwargs={}, response_metadata={}, id='2116de3d-864c-4186-9a7b-abc21d524fba'),\n",
       "  AIMessage(content='', additional_kwargs={'tool_calls': [{'id': 'chatcmpl-tool-a7fc14e318d9492083821ebaef2babd7', 'type': 'function', 'function': {'name': 'search', 'arguments': '{\"query\": \"weather in sf\"}'}}]}, response_metadata={'token_usage': {'completion_tokens': 24, 'prompt_tokens': 239, 'total_tokens': 263}, 'model_name': 'meta-llama/llama-3-3-70b-instruct', 'system_fingerprint': '', 'finish_reason': 'tool_calls'}, id='chatcmpl-4b1fcd32f5455264d64966920989bada', tool_calls=[{'name': 'search', 'args': {'query': 'weather in sf'}, 'id': 'chatcmpl-tool-a7fc14e318d9492083821ebaef2babd7', 'type': 'tool_call'}], usage_metadata={'input_tokens': 239, 'output_tokens': 24, 'total_tokens': 263}),\n",
       "  ToolMessage(content='0 degrees / rainy / polluted.', name='search', id='afad4690-2e9b-4909-a2d5-54b6539a817b', tool_call_id='chatcmpl-tool-a7fc14e318d9492083821ebaef2babd7'),\n",
       "  AIMessage(content='The weather in SF is 0 degrees, rainy, and polluted.', additional_kwargs={}, response_metadata={'token_usage': {'completion_tokens': 15, 'prompt_tokens': 279, 'total_tokens': 294}, 'model_name': 'meta-llama/llama-3-3-70b-instruct', 'system_fingerprint': '', 'finish_reason': 'stop'}, id='chatcmpl-4b599c0b34a78a37f10f5616bd4678e5', usage_metadata={'input_tokens': 279, 'output_tokens': 15, 'total_tokens': 294}),\n",
       "  HumanMessage(content='what about ny', additional_kwargs={}, response_metadata={}, id='311734fb-7433-4bdb-a56d-a31c5d0ad074'),\n",
       "  AIMessage(content='', additional_kwargs={'tool_calls': [{'id': 'chatcmpl-tool-3f7f287b3a1a4c32853a5b384f9b9d95', 'type': 'function', 'function': {'name': 'search', 'arguments': '{\"query\": \"weather in ny\"}'}}]}, response_metadata={'token_usage': {'completion_tokens': 18, 'prompt_tokens': 306, 'total_tokens': 324}, 'model_name': 'meta-llama/llama-3-3-70b-instruct', 'system_fingerprint': '', 'finish_reason': 'tool_calls'}, id='chatcmpl-7320421c37e55902790e99e2c997ef82', tool_calls=[{'name': 'search', 'args': {'query': 'weather in ny'}, 'id': 'chatcmpl-tool-3f7f287b3a1a4c32853a5b384f9b9d95', 'type': 'tool_call'}], usage_metadata={'input_tokens': 306, 'output_tokens': 18, 'total_tokens': 324}),\n",
       "  ToolMessage(content='-10 degrees / sunny', name='search', id='73b68cbd-dbc1-4c9a-99cd-619cddc185ff', tool_call_id='chatcmpl-tool-3f7f287b3a1a4c32853a5b384f9b9d95'),\n",
       "  AIMessage(content='The weather in NY is -10 degrees and sunny.', additional_kwargs={}, response_metadata={'token_usage': {'completion_tokens': 12, 'prompt_tokens': 343, 'total_tokens': 355}, 'model_name': 'meta-llama/llama-3-3-70b-instruct', 'system_fingerprint': '', 'finish_reason': 'stop'}, id='chatcmpl-20d09a9455ed4df35feac8226570cc41', usage_metadata={'input_tokens': 343, 'output_tokens': 12, 'total_tokens': 355})]}"
      ]
     },
     "execution_count": 10,
     "metadata": {},
     "output_type": "execute_result"
    }
   ],
   "source": [
    "final_state"
   ]
  },
  {
   "cell_type": "code",
   "execution_count": 6,
   "metadata": {},
   "outputs": [
    {
     "data": {
      "text/plain": [
       "AIMessage(content='', additional_kwargs={}, response_metadata={'token_usage': {'completion_tokens': 1, 'prompt_tokens': 263, 'total_tokens': 264}, 'model_name': 'ibm/granite-3-8b-instruct', 'system_fingerprint': '', 'finish_reason': 'stop'}, id='chatcmpl-ebe576000dfb4c84afce6f6d2243b5fa', usage_metadata={'input_tokens': 263, 'output_tokens': 1, 'total_tokens': 264})"
      ]
     },
     "execution_count": 6,
     "metadata": {},
     "output_type": "execute_result"
    }
   ],
   "source": [
    "final_state[\"messages\"][-1]"
   ]
  },
  {
   "cell_type": "markdown",
   "metadata": {},
   "source": []
  },
  {
   "cell_type": "code",
   "execution_count": null,
   "metadata": {},
   "outputs": [],
   "source": []
  }
 ],
 "metadata": {
  "kernelspec": {
   "display_name": ".venv",
   "language": "python",
   "name": "python3"
  },
  "language_info": {
   "codemirror_mode": {
    "name": "ipython",
    "version": 3
   },
   "file_extension": ".py",
   "mimetype": "text/x-python",
   "name": "python",
   "nbconvert_exporter": "python",
   "pygments_lexer": "ipython3",
   "version": "3.10.8"
  }
 },
 "nbformat": 4,
 "nbformat_minor": 2
}
