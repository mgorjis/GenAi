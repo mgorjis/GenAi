{
 "cells": [
  {
   "cell_type": "code",
   "execution_count": 2,
   "metadata": {},
   "outputs": [
    {
     "data": {
      "text/plain": [
       "AIMessage(content='Hello! How can I assist you today?', additional_kwargs={}, response_metadata={'token_usage': {'completion_tokens': 10, 'prompt_tokens': 60, 'total_tokens': 70}, 'model_name': 'ibm/granite-3-8b-instruct', 'system_fingerprint': '', 'finish_reason': 'stop'}, id='chatcmpl-b354d791e46b1271ac04549852145771', usage_metadata={'input_tokens': 60, 'output_tokens': 10, 'total_tokens': 70})"
      ]
     },
     "execution_count": 2,
     "metadata": {},
     "output_type": "execute_result"
    }
   ],
   "source": [
    "from ibm_watsonx_ai import APIClient\n",
    "from langchain_ibm import ChatWatsonx\n",
    "\n",
    "project_id=\"2adbc31f-5dc4-4e42-b730-1e5e360727fd\"\n",
    "url=\"https://us-south.ml.cloud.ibm.com\"\n",
    "apikey=\"0cZb46prORvZpwwPng_oLDJOxt5SmJwRqzw0gAfZKJ5_\"\n",
    "\n",
    "parameters = {\n",
    "    \"frequency_penalty\": 0,\n",
    "    \"max_tokens\": 100,\n",
    "    \"presence_penalty\": 0,\n",
    "    \"temperature\": 0,\n",
    "    \"top_p\": 1\n",
    "}\n",
    "\n",
    "def create_chat_model(model_id):\n",
    "    return ChatWatsonx(\n",
    "    model_id=model_id,\n",
    "    url=url,\n",
    "    apikey=apikey,\n",
    "    project_id=project_id,\n",
    "    params=parameters,\n",
    ")\n",
    "model_id = \"ibm/granite-3-8b-instruct\"\n",
    "chat_model = create_chat_model(model_id)\n",
    "chat_model.invoke(\"hello\")"
   ]
  },
  {
   "cell_type": "code",
   "execution_count": 3,
   "metadata": {},
   "outputs": [],
   "source": [
    "from langchain_community.utilities import OpenWeatherMapAPIWrapper\n",
    "from langchain_community.tools.openweathermap import OpenWeatherMapQueryRun\n",
    "weather_apikey= 'c0a856e7b381cf41550a94999c5d972d'\n",
    "weather_tool = OpenWeatherMapQueryRun(api_wrapper = OpenWeatherMapAPIWrapper(openweathermap_api_key =weather_apikey ))"
   ]
  },
  {
   "cell_type": "code",
   "execution_count": 14,
   "metadata": {},
   "outputs": [],
   "source": [
    "from typing import Annotated\n",
    "\n",
    "from langchain_core.messages import BaseMessage\n",
    "from typing_extensions import TypedDict\n",
    "\n",
    "from langgraph.graph import StateGraph, START, END\n",
    "from langgraph.graph.message import add_messages\n",
    "from langgraph.prebuilt import ToolNode, tools_condition\n",
    "from langgraph.checkpoint.memory import MemorySaver\n",
    "from langchain_core.messages import HumanMessage"
   ]
  },
  {
   "cell_type": "code",
   "execution_count": 12,
   "metadata": {},
   "outputs": [],
   "source": [
    "class State(TypedDict):\n",
    "    # Messages have the type \"list\". The `add_messages` function\n",
    "    # in the annotation defines how this state key should be updated\n",
    "    # (in this case, it appends messages to the list, rather than overwriting them)\n",
    "    messages: Annotated[list, add_messages]\n",
    "\n",
    "graph_builder = StateGraph(State)\n",
    "memory = MemorySaver()\n",
    "\n",
    "tools = [weather_tool]\n",
    "llm_with_tools = chat_model.bind_tools(tools)   #Bind tool-like objects to this chat model."
   ]
  },
  {
   "cell_type": "code",
   "execution_count": 13,
   "metadata": {},
   "outputs": [],
   "source": [
    "def chatbot(state: State):\n",
    "    return {\"messages\": [llm_with_tools.invoke(state[\"messages\"])]}\n",
    "\n",
    "graph_builder.add_node(\"chatbot\", chatbot)\n",
    "tool_node = ToolNode(tools=[weather_tool])\n",
    "graph_builder.add_node(\"tools\", tool_node)\n",
    "\n",
    "graph_builder.add_conditional_edges(\n",
    "    \"chatbot\",\n",
    "    tools_condition,\n",
    ")\n",
    "# Any time a tool is called, we return to the chatbot to decide the next step\n",
    "graph_builder.add_edge(\"tools\", \"chatbot\")\n",
    "graph_builder.add_edge(START, \"chatbot\")\n",
    "\n",
    "\n",
    "graph = graph_builder.compile(checkpointer=memory)"
   ]
  },
  {
   "cell_type": "code",
   "execution_count": 16,
   "metadata": {},
   "outputs": [
    {
     "data": {
      "text/plain": [
       "{'messages': [HumanMessage(content='Hi there! My name is Will.', additional_kwargs={}, response_metadata={}, id='1603dd88-ee16-444b-bbc4-0d5a457c810e'),\n",
       "  AIMessage(content=\"Hello Will! It's nice to meet you. How can I assist you today?\", additional_kwargs={}, response_metadata={'token_usage': {'completion_tokens': 18, 'prompt_tokens': 249, 'total_tokens': 267}, 'model_name': 'ibm/granite-3-8b-instruct', 'system_fingerprint': '', 'finish_reason': 'stop'}, id='chatcmpl-fe70b9d739a45ba8249f6760ab817f4c', usage_metadata={'input_tokens': 249, 'output_tokens': 18, 'total_tokens': 267})]}"
      ]
     },
     "execution_count": 16,
     "metadata": {},
     "output_type": "execute_result"
    }
   ],
   "source": [
    "config = {\"configurable\": {\"thread_id\": \"1\"}}\n",
    "\n",
    "messages = \"Hi there! My name is Will.\"\n",
    "u={\"messages\": [HumanMessage(content=messages)]}\n",
    "graph.invoke(u, config = config )"
   ]
  },
  {
   "cell_type": "code",
   "execution_count": 17,
   "metadata": {},
   "outputs": [
    {
     "data": {
      "text/plain": [
       "{'messages': [HumanMessage(content='Hi there! My name is Will.', additional_kwargs={}, response_metadata={}, id='1603dd88-ee16-444b-bbc4-0d5a457c810e'),\n",
       "  AIMessage(content=\"Hello Will! It's nice to meet you. How can I assist you today?\", additional_kwargs={}, response_metadata={'token_usage': {'completion_tokens': 18, 'prompt_tokens': 249, 'total_tokens': 267}, 'model_name': 'ibm/granite-3-8b-instruct', 'system_fingerprint': '', 'finish_reason': 'stop'}, id='chatcmpl-fe70b9d739a45ba8249f6760ab817f4c', usage_metadata={'input_tokens': 249, 'output_tokens': 18, 'total_tokens': 267}),\n",
       "  HumanMessage(content='Hi there! what is my name?', additional_kwargs={}, response_metadata={}, id='b067190d-73bc-476b-bf3d-a9b07f423169'),\n",
       "  AIMessage(content='Your name is Will.', additional_kwargs={}, response_metadata={'token_usage': {'completion_tokens': 6, 'prompt_tokens': 284, 'total_tokens': 290}, 'model_name': 'ibm/granite-3-8b-instruct', 'system_fingerprint': '', 'finish_reason': 'stop'}, id='chatcmpl-985f238135414c8b35474036da6f1675', usage_metadata={'input_tokens': 284, 'output_tokens': 6, 'total_tokens': 290})]}"
      ]
     },
     "execution_count": 17,
     "metadata": {},
     "output_type": "execute_result"
    }
   ],
   "source": [
    "messages = \"Hi there! what is my name?\"\n",
    "u={\"messages\": [HumanMessage(content=messages)]}\n",
    "graph.invoke(u, config = config )"
   ]
  },
  {
   "cell_type": "code",
   "execution_count": 18,
   "metadata": {},
   "outputs": [
    {
     "data": {
      "text/plain": [
       "{'messages': [HumanMessage(content='Hi there! My name is Will.', additional_kwargs={}, response_metadata={}, id='1603dd88-ee16-444b-bbc4-0d5a457c810e'),\n",
       "  AIMessage(content=\"Hello Will! It's nice to meet you. How can I assist you today?\", additional_kwargs={}, response_metadata={'token_usage': {'completion_tokens': 18, 'prompt_tokens': 249, 'total_tokens': 267}, 'model_name': 'ibm/granite-3-8b-instruct', 'system_fingerprint': '', 'finish_reason': 'stop'}, id='chatcmpl-fe70b9d739a45ba8249f6760ab817f4c', usage_metadata={'input_tokens': 249, 'output_tokens': 18, 'total_tokens': 267}),\n",
       "  HumanMessage(content='Hi there! what is my name?', additional_kwargs={}, response_metadata={}, id='b067190d-73bc-476b-bf3d-a9b07f423169'),\n",
       "  AIMessage(content='Your name is Will.', additional_kwargs={}, response_metadata={'token_usage': {'completion_tokens': 6, 'prompt_tokens': 284, 'total_tokens': 290}, 'model_name': 'ibm/granite-3-8b-instruct', 'system_fingerprint': '', 'finish_reason': 'stop'}, id='chatcmpl-985f238135414c8b35474036da6f1675', usage_metadata={'input_tokens': 284, 'output_tokens': 6, 'total_tokens': 290}),\n",
       "  HumanMessage(content='Hi there! what is the temperature in greensboro NC', additional_kwargs={}, response_metadata={}, id='e7231601-e39f-42b2-81ef-f80caea6d12f'),\n",
       "  AIMessage(content='', additional_kwargs={'tool_calls': [{'id': 'chatcmpl-tool-c767b2ba5c254c57a614a6715cb137cb', 'type': 'function', 'function': {'name': 'open_weather_map', 'arguments': '{\"location\": \"Greensboro,US\"}'}}]}, response_metadata={'token_usage': {'completion_tokens': 31, 'prompt_tokens': 312, 'total_tokens': 343}, 'model_name': 'ibm/granite-3-8b-instruct', 'system_fingerprint': '', 'finish_reason': 'tool_calls'}, id='chatcmpl-a70050cc1da09809a9960f9d032043f1', tool_calls=[{'name': 'open_weather_map', 'args': {'location': 'Greensboro,US'}, 'id': 'chatcmpl-tool-c767b2ba5c254c57a614a6715cb137cb', 'type': 'tool_call'}], usage_metadata={'input_tokens': 312, 'output_tokens': 31, 'total_tokens': 343}),\n",
       "  ToolMessage(content='In Greensboro,US, the current weather is as follows:\\nDetailed status: few clouds\\nWind speed: 0 m/s, direction: 0°\\nHumidity: 32%\\nTemperature: \\n  - Current: 11.52°C\\n  - High: 12.21°C\\n  - Low: 10.54°C\\n  - Feels like: 9.56°C\\nRain: {}\\nHeat index: None\\nCloud cover: 20%', name='open_weather_map', id='f4e47961-a0a3-48f4-a215-d3b2e014ef13', tool_call_id='chatcmpl-tool-c767b2ba5c254c57a614a6715cb137cb'),\n",
       "  AIMessage(content='The current temperature in Greensboro, NC is 11.52°C. The weather is mostly sunny with few clouds and a wind speed of 0 m/s. The humidity is at 32%. The feels-like temperature is 9.56°C. There is no rain and no heat index. The cloud cover is 20%.', additional_kwargs={}, response_metadata={'token_usage': {'completion_tokens': 82, 'prompt_tokens': 436, 'total_tokens': 518}, 'model_name': 'ibm/granite-3-8b-instruct', 'system_fingerprint': '', 'finish_reason': 'stop'}, id='chatcmpl-1b94798169fd485b55529e3cef2187e0', usage_metadata={'input_tokens': 436, 'output_tokens': 82, 'total_tokens': 518})]}"
      ]
     },
     "execution_count": 18,
     "metadata": {},
     "output_type": "execute_result"
    }
   ],
   "source": [
    "config = {\"configurable\": {\"thread_id\": \"1\"}}\n",
    "\n",
    "messages = \"Hi there! what is the temperature in greensboro NC\"\n",
    "u={\"messages\": [HumanMessage(content=messages)]}\n",
    "graph.invoke(u, config = config )"
   ]
  },
  {
   "cell_type": "code",
   "execution_count": 21,
   "metadata": {},
   "outputs": [
    {
     "data": {
      "text/plain": [
       "{'messages': [HumanMessage(content='Hi there! My name is Will.', additional_kwargs={}, response_metadata={}, id='1603dd88-ee16-444b-bbc4-0d5a457c810e'),\n",
       "  AIMessage(content=\"Hello Will! It's nice to meet you. How can I assist you today?\", additional_kwargs={}, response_metadata={'token_usage': {'completion_tokens': 18, 'prompt_tokens': 249, 'total_tokens': 267}, 'model_name': 'ibm/granite-3-8b-instruct', 'system_fingerprint': '', 'finish_reason': 'stop'}, id='chatcmpl-fe70b9d739a45ba8249f6760ab817f4c', usage_metadata={'input_tokens': 249, 'output_tokens': 18, 'total_tokens': 267}),\n",
       "  HumanMessage(content='Hi there! what is my name?', additional_kwargs={}, response_metadata={}, id='b067190d-73bc-476b-bf3d-a9b07f423169'),\n",
       "  AIMessage(content='Your name is Will.', additional_kwargs={}, response_metadata={'token_usage': {'completion_tokens': 6, 'prompt_tokens': 284, 'total_tokens': 290}, 'model_name': 'ibm/granite-3-8b-instruct', 'system_fingerprint': '', 'finish_reason': 'stop'}, id='chatcmpl-985f238135414c8b35474036da6f1675', usage_metadata={'input_tokens': 284, 'output_tokens': 6, 'total_tokens': 290}),\n",
       "  HumanMessage(content='Hi there! what is the temperature in greensboro NC', additional_kwargs={}, response_metadata={}, id='e7231601-e39f-42b2-81ef-f80caea6d12f'),\n",
       "  AIMessage(content='', additional_kwargs={'tool_calls': [{'id': 'chatcmpl-tool-c767b2ba5c254c57a614a6715cb137cb', 'type': 'function', 'function': {'name': 'open_weather_map', 'arguments': '{\"location\": \"Greensboro,US\"}'}}]}, response_metadata={'token_usage': {'completion_tokens': 31, 'prompt_tokens': 312, 'total_tokens': 343}, 'model_name': 'ibm/granite-3-8b-instruct', 'system_fingerprint': '', 'finish_reason': 'tool_calls'}, id='chatcmpl-a70050cc1da09809a9960f9d032043f1', tool_calls=[{'name': 'open_weather_map', 'args': {'location': 'Greensboro,US'}, 'id': 'chatcmpl-tool-c767b2ba5c254c57a614a6715cb137cb', 'type': 'tool_call'}], usage_metadata={'input_tokens': 312, 'output_tokens': 31, 'total_tokens': 343}),\n",
       "  ToolMessage(content='In Greensboro,US, the current weather is as follows:\\nDetailed status: few clouds\\nWind speed: 0 m/s, direction: 0°\\nHumidity: 32%\\nTemperature: \\n  - Current: 11.52°C\\n  - High: 12.21°C\\n  - Low: 10.54°C\\n  - Feels like: 9.56°C\\nRain: {}\\nHeat index: None\\nCloud cover: 20%', name='open_weather_map', id='f4e47961-a0a3-48f4-a215-d3b2e014ef13', tool_call_id='chatcmpl-tool-c767b2ba5c254c57a614a6715cb137cb'),\n",
       "  AIMessage(content='The current temperature in Greensboro, NC is 11.52°C. The weather is mostly sunny with few clouds and a wind speed of 0 m/s. The humidity is at 32%. The feels-like temperature is 9.56°C. There is no rain and no heat index. The cloud cover is 20%.', additional_kwargs={}, response_metadata={'token_usage': {'completion_tokens': 82, 'prompt_tokens': 436, 'total_tokens': 518}, 'model_name': 'ibm/granite-3-8b-instruct', 'system_fingerprint': '', 'finish_reason': 'stop'}, id='chatcmpl-1b94798169fd485b55529e3cef2187e0', usage_metadata={'input_tokens': 436, 'output_tokens': 82, 'total_tokens': 518}),\n",
       "  HumanMessage(content='Hi there! what is the humidity there', additional_kwargs={}, response_metadata={}, id='1696f175-4b69-4d3f-9cd9-118e3b35c3dd'),\n",
       "  AIMessage(content='The current humidity in Greensboro, NC is 32%.', additional_kwargs={}, response_metadata={'token_usage': {'completion_tokens': 18, 'prompt_tokens': 536, 'total_tokens': 554}, 'model_name': 'ibm/granite-3-8b-instruct', 'system_fingerprint': '', 'finish_reason': 'stop'}, id='chatcmpl-83396576d10a895076b457d495dd0e61', usage_metadata={'input_tokens': 536, 'output_tokens': 18, 'total_tokens': 554}),\n",
       "  HumanMessage(content='Hi there! what is the humidity there', additional_kwargs={}, response_metadata={}, id='1d857676-f521-4456-b613-74dc9b15b959'),\n",
       "  AIMessage(content='The current humidity in Greensboro, NC remains at 32%.', additional_kwargs={}, response_metadata={'token_usage': {'completion_tokens': 19, 'prompt_tokens': 572, 'total_tokens': 591}, 'model_name': 'ibm/granite-3-8b-instruct', 'system_fingerprint': '', 'finish_reason': 'stop'}, id='chatcmpl-5cc0d8aadbc99593abe83ae998726f10', usage_metadata={'input_tokens': 572, 'output_tokens': 19, 'total_tokens': 591})]}"
      ]
     },
     "execution_count": 21,
     "metadata": {},
     "output_type": "execute_result"
    }
   ],
   "source": [
    "config = {\"configurable\": {\"thread_id\": \"1\"}}\n",
    "\n",
    "messages = \"Hi there! what is the humidity there\"\n",
    "u={\"messages\": [HumanMessage(content=messages)]}\n",
    "graph.invoke(u, config = config )"
   ]
  },
  {
   "cell_type": "code",
   "execution_count": 20,
   "metadata": {},
   "outputs": [
    {
     "data": {
      "text/plain": [
       "{'messages': [HumanMessage(content='Hi there! what is the humidity there', additional_kwargs={}, response_metadata={}, id='d15fc0cd-7dbb-486b-b13d-7354382c2727'),\n",
       "  AIMessage(content=\"I'm sorry for the confusion, but I need a location to provide the current weather information. Could you please specify a location?\", additional_kwargs={}, response_metadata={'token_usage': {'completion_tokens': 27, 'prompt_tokens': 250, 'total_tokens': 277}, 'model_name': 'ibm/granite-3-8b-instruct', 'system_fingerprint': '', 'finish_reason': 'stop'}, id='chatcmpl-f9b687d88010c1217f1115631aa7e633', usage_metadata={'input_tokens': 250, 'output_tokens': 27, 'total_tokens': 277})]}"
      ]
     },
     "execution_count": 20,
     "metadata": {},
     "output_type": "execute_result"
    }
   ],
   "source": [
    "config = {\"configurable\": {\"thread_id\": \"4\"}}\n",
    "\n",
    "messages = \"Hi there! what is the humidity there\"\n",
    "u={\"messages\": [HumanMessage(content=messages)]}\n",
    "graph.invoke(u, config = config )"
   ]
  },
  {
   "cell_type": "markdown",
   "metadata": {},
   "source": [
    "# Human-in-the-loop"
   ]
  },
  {
   "cell_type": "code",
   "execution_count": 38,
   "metadata": {},
   "outputs": [],
   "source": [
    "from langchain_core.tools import tool\n",
    "from langgraph.types import Command, interrupt"
   ]
  },
  {
   "cell_type": "code",
   "execution_count": 44,
   "metadata": {},
   "outputs": [],
   "source": [
    "class State(TypedDict):\n",
    "    messages: Annotated[list, add_messages]"
   ]
  },
  {
   "cell_type": "code",
   "execution_count": 45,
   "metadata": {},
   "outputs": [],
   "source": [
    "@tool\n",
    "def human_assistance(query: str) -> str:\n",
    "    \"\"\"Request assistance from a human.\"\"\"\n",
    "    human_response = interrupt({\"query\": query})\n",
    "    return human_response[\"data\"]\n",
    "\n",
    "tools = [weather_tool]\n",
    "llm_with_tools = chat_model.bind_tools(tools)"
   ]
  },
  {
   "cell_type": "code",
   "execution_count": 46,
   "metadata": {},
   "outputs": [],
   "source": [
    "def chatbot(state: State):\n",
    "    message = llm_with_tools.invoke(state[\"messages\"])\n",
    "    # Because we will be interrupting during tool execution,\n",
    "    # we disable parallel tool calling to avoid repeating any\n",
    "    # tool invocations when we resume.\n",
    "    assert len(message.tool_calls) <= 1\n",
    "    return {\"messages\": [message]}"
   ]
  },
  {
   "cell_type": "code",
   "execution_count": 47,
   "metadata": {},
   "outputs": [],
   "source": [
    "graph_builder = StateGraph(State)\n",
    "\n",
    "graph_builder.add_node(\"chatbot\", chatbot)\n",
    "\n",
    "tool_node = ToolNode(tools=tools)\n",
    "graph_builder.add_node(\"tools\", tool_node)\n",
    "\n",
    "graph_builder.add_conditional_edges(\n",
    "    \"chatbot\",\n",
    "    tools_condition,\n",
    ")\n",
    "graph_builder.add_edge(\"tools\", \"chatbot\")\n",
    "graph_builder.add_edge(START, \"chatbot\")\n",
    "\n",
    "memory = MemorySaver()\n",
    "\n",
    "graph = graph_builder.compile(checkpointer=memory)"
   ]
  },
  {
   "cell_type": "code",
   "execution_count": 48,
   "metadata": {},
   "outputs": [
    {
     "data": {
      "text/plain": [
       "{'messages': [HumanMessage(content='Hi there! I need help finding temperatur in my city?', additional_kwargs={}, response_metadata={}, id='b12e98e9-85ca-4471-9618-388773e94f3b'),\n",
       "  AIMessage(content='Of course, I can help with that. Could you please tell me the name of your city?', additional_kwargs={}, response_metadata={'token_usage': {'completion_tokens': 21, 'prompt_tokens': 255, 'total_tokens': 276}, 'model_name': 'ibm/granite-3-8b-instruct', 'system_fingerprint': '', 'finish_reason': 'stop'}, id='chatcmpl-1243649af68150e3f04f459143eba013', usage_metadata={'input_tokens': 255, 'output_tokens': 21, 'total_tokens': 276})]}"
      ]
     },
     "execution_count": 48,
     "metadata": {},
     "output_type": "execute_result"
    }
   ],
   "source": [
    "messages = \"Hi there! I need help finding temperatur in my city?\"\n",
    "u={\"messages\": [HumanMessage(content=messages)]}\n",
    "graph.invoke(u, config = config )"
   ]
  },
  {
   "cell_type": "code",
   "execution_count": 49,
   "metadata": {},
   "outputs": [
    {
     "data": {
      "text/plain": [
       "{'messages': [HumanMessage(content='Hi there! I need help finding temperatur in my city?', additional_kwargs={}, response_metadata={}, id='b12e98e9-85ca-4471-9618-388773e94f3b'),\n",
       "  AIMessage(content='Of course, I can help with that. Could you please tell me the name of your city?', additional_kwargs={}, response_metadata={'token_usage': {'completion_tokens': 21, 'prompt_tokens': 255, 'total_tokens': 276}, 'model_name': 'ibm/granite-3-8b-instruct', 'system_fingerprint': '', 'finish_reason': 'stop'}, id='chatcmpl-1243649af68150e3f04f459143eba013', usage_metadata={'input_tokens': 255, 'output_tokens': 21, 'total_tokens': 276}),\n",
       "  HumanMessage(content='yes. i live in Paris', additional_kwargs={}, response_metadata={}, id='07b4e1b5-24ae-4074-b2a9-00e4c3afe1d6'),\n",
       "  AIMessage(content='', additional_kwargs={'tool_calls': [{'id': 'chatcmpl-tool-4530425611734f74978bd7636ac6c151', 'type': 'function', 'function': {'name': 'open_weather_map', 'arguments': '{\"location\": \"Paris,FR\"}'}}]}, response_metadata={'token_usage': {'completion_tokens': 28, 'prompt_tokens': 292, 'total_tokens': 320}, 'model_name': 'ibm/granite-3-8b-instruct', 'system_fingerprint': '', 'finish_reason': 'tool_calls'}, id='chatcmpl-b922ad95a705b81125b00b42b4f77a21', tool_calls=[{'name': 'open_weather_map', 'args': {'location': 'Paris,FR'}, 'id': 'chatcmpl-tool-4530425611734f74978bd7636ac6c151', 'type': 'tool_call'}], usage_metadata={'input_tokens': 292, 'output_tokens': 28, 'total_tokens': 320}),\n",
       "  ToolMessage(content=\"In Paris,FR, the current weather is as follows:\\nDetailed status: light rain\\nWind speed: 6.69 m/s, direction: 180°\\nHumidity: 77%\\nTemperature: \\n  - Current: 11.64°C\\n  - High: 12.46°C\\n  - Low: 10.68°C\\n  - Feels like: 10.87°C\\nRain: {'1h': 0.27}\\nHeat index: None\\nCloud cover: 0%\", name='open_weather_map', id='23b04de3-9d83-4ff1-9f20-a6228b1ef783', tool_call_id='chatcmpl-tool-4530425611734f74978bd7636ac6c151'),\n",
       "  AIMessage(content=\"The current temperature in Paris, France is 11.64°C. It feels like 10.87°C due to the light rain and wind speed of 6.69 m/s from the north. The humidity is at 77%. There's no heat index as it's not particularly hot, and the sky is clear with 0% cloud cover. The high for the day is expected to be 12.46°C\", additional_kwargs={}, response_metadata={'token_usage': {'completion_tokens': 100, 'prompt_tokens': 427, 'total_tokens': 527}, 'model_name': 'ibm/granite-3-8b-instruct', 'system_fingerprint': '', 'finish_reason': 'length'}, id='chatcmpl-e749486f06f87f66be1050bf0aed36be', usage_metadata={'input_tokens': 427, 'output_tokens': 100, 'total_tokens': 527})]}"
      ]
     },
     "execution_count": 49,
     "metadata": {},
     "output_type": "execute_result"
    }
   ],
   "source": [
    "messages = \"yes. i live in Paris\"\n",
    "u={\"messages\": [HumanMessage(content=messages)]}\n",
    "graph.invoke(u, config = config )"
   ]
  },
  {
   "cell_type": "code",
   "execution_count": 50,
   "metadata": {},
   "outputs": [
    {
     "data": {
      "text/plain": [
       "()"
      ]
     },
     "execution_count": 50,
     "metadata": {},
     "output_type": "execute_result"
    }
   ],
   "source": [
    "snapshot = graph.get_state(config)\n",
    "snapshot.next"
   ]
  },
  {
   "cell_type": "code",
   "execution_count": null,
   "metadata": {},
   "outputs": [],
   "source": []
  }
 ],
 "metadata": {
  "kernelspec": {
   "display_name": ".venv",
   "language": "python",
   "name": "python3"
  },
  "language_info": {
   "codemirror_mode": {
    "name": "ipython",
    "version": 3
   },
   "file_extension": ".py",
   "mimetype": "text/x-python",
   "name": "python",
   "nbconvert_exporter": "python",
   "pygments_lexer": "ipython3",
   "version": "3.10.8"
  }
 },
 "nbformat": 4,
 "nbformat_minor": 2
}
