{
 "cells": [
  {
   "cell_type": "code",
   "execution_count": 22,
   "metadata": {},
   "outputs": [],
   "source": [
    "from langchain_ollama import ChatOllama\n",
    "\n",
    "from typing import Annotated\n",
    "\n",
    "from typing_extensions import TypedDict\n",
    "\n",
    "from langgraph.graph.message import add_messages\n",
    "from langchain_core.messages import ToolMessage\n",
    "from langchain_core.tools import InjectedToolCallId, tool\n",
    "\n",
    "from langgraph.types import Command, interrupt\n",
    "from langchain_community.tools.tavily_search import TavilySearchResults\n",
    "\n",
    "from langgraph.checkpoint.memory import MemorySaver\n",
    "from langgraph.graph import StateGraph, START, END\n",
    "from langgraph.prebuilt import ToolNode, tools_condition\n",
    "from langgraph.types import interrupt\n",
    "from dotenv import load_dotenv\n",
    "import os\n",
    "from langchain_core.messages import SystemMessage, HumanMessage, AIMessage\n",
    "from pydantic import BaseModel\n",
    "from typing import List\n",
    "\n",
    "from IPython.display import Image, display"
   ]
  },
  {
   "cell_type": "code",
   "execution_count": 339,
   "metadata": {},
   "outputs": [
    {
     "data": {
      "text/plain": [
       "AIMessage(content='The capital of Iran is Tehran.', additional_kwargs={}, response_metadata={'model': 'granite3.2:8b-instruct-fp16', 'created_at': '2025-03-14T03:28:53.9320043Z', 'done': True, 'done_reason': 'stop', 'total_duration': 1098039300, 'load_duration': 20585700, 'prompt_eval_count': 50, 'prompt_eval_duration': 377000000, 'eval_count': 11, 'eval_duration': 690000000, 'message': Message(role='assistant', content='', images=None, tool_calls=None)}, id='run-3a1f3b22-e121-40ba-99e4-7808474a2d35-0', usage_metadata={'input_tokens': 50, 'output_tokens': 11, 'total_tokens': 61})"
      ]
     },
     "execution_count": 339,
     "metadata": {},
     "output_type": "execute_result"
    }
   ],
   "source": [
    "load_dotenv()\n",
    "tavily_api_key = os.getenv(\"tavily_api_key\")\n",
    "\n",
    "llm = ChatOllama(\n",
    "    model=\"granite3.2:8b-instruct-fp16\",\n",
    "    frequency_penalty= 0,\n",
    "    max_tokens= 10,\n",
    "    presence_penalty= 0,\n",
    "    temperature= 1,\n",
    "    top_p= 1\n",
    ")\n",
    "\n",
    "llm.invoke(\"what is the capital of Iran\")"
   ]
  },
  {
   "cell_type": "code",
   "execution_count": null,
   "metadata": {},
   "outputs": [],
   "source": [
    "class AgentState(TypedDict):\n",
    "    function_str: str\n",
    "    #latex_str:str\n",
    "    #value: float\n",
    "    user_message : str\n",
    "    messages: Annotated[list, add_messages]\n",
    "\n",
    "\n",
    "def greeting(AgentState )-> str:\n",
    "    template = \"you are a value extraction assistant. Greet the user and write a sentence about importance of math in life.\" \\\n",
    "    \"Then ask for a mathematical function that you can evaluate written in a bracket.\"\n",
    "\n",
    "    messages  = [SystemMessage(content=template)] + AgentState[\"messages\"]\n",
    "    response = llm.invoke(messages)\n",
    "    return {\"messages\": [response]}\n",
    "\n",
    "\n",
    "\n",
    "# def user_enter_function(AgentState):\n",
    "#     print(\"--- Waiting for FUNCTION ---\")\n",
    "#     function_str = input(\"Please ENTER FUNCTION: \")\n",
    "#     AgentState[\"function_str\"]=function_str\n",
    "\n",
    "#     AgentState[\"messages\"]  = [HumanMessage(content=function_str)] + AgentState[\"messages\"]  #+[SystemMessage(content=\"I GOT It!\")]\n",
    "\n",
    "\n",
    "#     return AgentState\n",
    "\n",
    "\n",
    "# #https://langchain-ai.github.io/langgraph/how-tos/wait-user-input-functional/#usage\n",
    "# def user_enter_function(AgentState):\n",
    "\n",
    "#     global counter\n",
    "#     counter += 1\n",
    "#     print(f\"> Entered the node: {counter} # of times\")\n",
    "\n",
    "#     #print(\"---human_feedback---\")\n",
    "#     function_str = interrupt(\"Please enter function:\")\n",
    "\n",
    "#     function_str = input(\"Please ENTER FUNCTION: \")\n",
    "\n",
    "\n",
    "#     AgentState[\"messages\"]  = [HumanMessage(content=function_str)] + AgentState[\"messages\"]\n",
    "#     AgentState[\"function_str\"]=function_str\n",
    "\n",
    "#     return {\n",
    "#         \"function_str\": function_str\n",
    "#     }\n",
    "\n",
    "    \n",
    "\n",
    "def explain_function(AgentState):\n",
    "\n",
    "    prompt = f\" You are a math expert. You know about the history of math, and famous mathematicians in history. Your job is to tell\\\n",
    "        a fact or story about the function {AgentState[\"function_str\"]}\"\n",
    "    response = llm.invoke(prompt)\n",
    "    messages  =  [response] + AgentState[\"messages\"]\n",
    "    \n",
    "    return {\"messages\": messages}\n"
   ]
  },
  {
   "cell_type": "code",
   "execution_count": 343,
   "metadata": {},
   "outputs": [],
   "source": [
    "graph_builder = StateGraph(AgentState)\n",
    "graph_builder.add_node(\"greeting\", greeting)\n",
    "graph_builder.add_node(\"user_enter_function\", user_enter_function)\n",
    "graph_builder.add_node(\"explain_function\", explain_function)\n",
    "\n",
    "\n",
    "graph_builder.add_edge(START,\"greeting\")\n",
    "graph_builder.add_edge(\"greeting\",\"user_enter_function\")\n",
    "graph_builder.add_edge(\"user_enter_function\", \"explain_function\")\n",
    "graph_builder.add_edge(\"explain_function\", END)\n",
    "\n",
    "\n",
    "memory = MemorySaver()\n",
    "graph = graph_builder.compile(checkpointer = memory)\n",
    "\n",
    "config = {\"configurable\":{\"thread_id\":1}}"
   ]
  },
  {
   "cell_type": "code",
   "execution_count": 344,
   "metadata": {},
   "outputs": [
    {
     "name": "stdout",
     "output_type": "stream",
     "text": [
      "================================\u001b[1m Human Message \u001b[0m=================================\n",
      "\n",
      "hi\n",
      "==================================\u001b[1m Ai Message \u001b[0m==================================\n",
      "\n",
      "Hello! Math is absolutely essential in our daily lives, shaping our understanding of the world and enabling us to make sense of complex situations. It's used extensively in fields like science, engineering, economics, and even in everyday tasks such as cooking or managing finances. \n",
      "\n",
      "Now, could you please provide me with a mathematical function enclosed in brackets that I can evaluate for you? For example, you might ask for the evaluation of something like \"sin(30)\" or \"2^5\".\n",
      "> Entered the node: 1 # of times\n"
     ]
    }
   ],
   "source": [
    "counter=0\n",
    "\n",
    "user_input = input(\"You: \")\n",
    "input_message = {\"messages\": [HumanMessage(content=user_input)]}\n",
    "\n",
    "for chunk in graph.stream(input_message, stream_mode=\"values\",config = config):\n",
    "    chunk[\"messages\"][-1].pretty_print()"
   ]
  },
  {
   "cell_type": "code",
   "execution_count": 200,
   "metadata": {},
   "outputs": [
    {
     "data": {
      "image/png": "[encoded data removed]",
      "text/plain": [
       "<langgraph.graph.state.CompiledStateGraph object at 0x0000023BAE00FD70>"
      ]
     },
     "metadata": {},
     "output_type": "display_data"
    }
   ],
   "source": [
    "display(graph)"
   ]
  },
  {
   "cell_type": "code",
   "execution_count": null,
   "metadata": {},
   "outputs": [],
   "source": []
  },
  {
   "cell_type": "code",
   "execution_count": 328,
   "metadata": {},
   "outputs": [],
   "source": [
    "counter = 0\n",
    "def node(state):\n",
    "    # All the code from the beginning of the node to the interrupt will be re-executed\n",
    "    # when the graph resumes.\n",
    "    global counter\n",
    "    counter += 1\n",
    "    print(f\"> Entered the node: {counter} # of times\")\n",
    "    # Pause the graph and wait for user input.\n",
    "    answer = interrupt()\n",
    "    print(\"The value of counter is:\", counter)\n",
    "    ..."
   ]
  },
  {
   "cell_type": "code",
   "execution_count": null,
   "metadata": {},
   "outputs": [],
   "source": []
  }
 ],
 "metadata": {
  "kernelspec": {
   "display_name": "Python 3",
   "language": "python",
   "name": "python3"
  },
  "language_info": {
   "codemirror_mode": {
    "name": "ipython",
    "version": 3
   },
   "file_extension": ".py",
   "mimetype": "text/x-python",
   "name": "python",
   "nbconvert_exporter": "python",
   "pygments_lexer": "ipython3",
   "version": "3.12.9"
  }
 },
 "nbformat": 4,
 "nbformat_minor": 2
}
