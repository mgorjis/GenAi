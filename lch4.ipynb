{
 "cells": [
  {
   "cell_type": "code",
   "execution_count": 22,
   "metadata": {},
   "outputs": [],
   "source": [
    "#!pip install langchain_community\n",
    "#!pip install docarray\n",
    "#!pip install langchain_chroma"
   ]
  },
  {
   "cell_type": "code",
   "execution_count": 30,
   "metadata": {},
   "outputs": [],
   "source": [
    "from langchain.chains import RetrievalQA\n",
    "from langchain.chat_models import ChatOpenAI\n",
    "from langchain.document_loaders import CSVLoader\n",
    "from langchain.vectorstores import DocArrayInMemorySearch\n",
    "from IPython.display import display, Markdown\n",
    "from langchain_chroma import Chroma\n",
    "from langchain.indexes import VectorstoreIndexCreator\n",
    "\n",
    "from langchain_ibm import ChatWatsonx, WatsonxEmbeddings\n",
    "from ibm_watsonx_ai import Credentials"
   ]
  },
  {
   "cell_type": "code",
   "execution_count": 53,
   "metadata": {},
   "outputs": [
    {
     "data": {
      "text/plain": [
       "AIMessage(content='The capital of Iran is Tehran.', additional_kwargs={}, response_metadata={'token_usage': {'completion_tokens': 11, 'prompt_tokens': 67, 'total_tokens': 78}, 'model_name': 'ibm/granite-3-8b-instruct', 'system_fingerprint': '', 'finish_reason': 'stop'}, id='chatcmpl-9a888f395c311c74c6e6a73cd9e8d6d5', usage_metadata={'input_tokens': 67, 'output_tokens': 11, 'total_tokens': 78})"
      ]
     },
     "execution_count": 53,
     "metadata": {},
     "output_type": "execute_result"
    }
   ],
   "source": [
    "parameters = {\n",
    "    \"temperature\": 0.1,\n",
    "    \"max_tokens\": 1000,\n",
    "}\n",
    "\n",
    "llm = ChatWatsonx(\n",
    "    model_id=\"ibm/granite-3-8b-instruct\",\n",
    "    url=\"https://us-south.ml.cloud.ibm.com\",\n",
    "    apikey=\"0cZb46prORvZpwwPng_oLDJOxt5SmJwRqzw0gAfZKJ5_\",\n",
    "    project_id=\"2adbc31f-5dc4-4e42-b730-1e5e360727fd\",\n",
    "    params=parameters,\n",
    ")\n",
    "\n",
    "llm.invoke(\"what is the capital of Iran?\")"
   ]
  },
  {
   "cell_type": "code",
   "execution_count": null,
   "metadata": {},
   "outputs": [],
   "source": [
    "#https://github.com/IBM/watsonx-ai-samples/blob/master/cloud/notebooks/python_sdk/deployments/foundation_models/RAG/Use%20watsonx%2C%20Chroma%2C%20and%20LangChain%20to%20answer%20questions%20(RAG).ipynb\n",
    "\n",
    "#https://www.ibm.com/architectures/papers/rag-cookbook/embedding\n",
    "\n",
    "#https://dataplatform.cloud.ibm.com/docs/content/wsj/analyze-data/fm-models-embed.html?context=wx&pos=2&audience=wdp\n",
    "\n",
    "credentials = Credentials(\n",
    "    url=\"https://us-south.ml.cloud.ibm.com\",\n",
    "    api_key=\"0cZb46prORvZpwwPng_oLDJOxt5SmJwRqzw0gAfZKJ5_\"\n",
    ")\n",
    "\n",
    "embeddings = WatsonxEmbeddings(\n",
    "    model_id=\"ibm/slate-30m-english-rtrvr\",\n",
    "    url=credentials[\"url\"],\n",
    "    apikey=credentials[\"apikey\"],\n",
    "    project_id=\"2adbc31f-5dc4-4e42-b730-1e5e360727fd\"\n",
    "    )"
   ]
  },
  {
   "cell_type": "code",
   "execution_count": 59,
   "metadata": {},
   "outputs": [],
   "source": [
    "#embeddings.embed_query(\"The capital of Iran is Tehran.\").shape"
   ]
  },
  {
   "cell_type": "code",
   "execution_count": 49,
   "metadata": {},
   "outputs": [],
   "source": [
    "file = 'OutdoorClothingCatalog_1000.csv'\n",
    "loader = CSVLoader(file_path=file, encoding='latin1')"
   ]
  },
  {
   "cell_type": "code",
   "execution_count": 50,
   "metadata": {},
   "outputs": [],
   "source": [
    "index = VectorstoreIndexCreator(vectorstore_cls=DocArrayInMemorySearch, embedding = embeddings).from_loaders([loader]) # vectorstore_cls=DocArrayInMemorySearch"
   ]
  },
  {
   "cell_type": "code",
   "execution_count": 51,
   "metadata": {},
   "outputs": [],
   "source": [
    "query =\"Please list all your shirts with sun protection \\\n",
    "in a table in markdown and summarize each one.\""
   ]
  },
  {
   "cell_type": "code",
   "execution_count": 45,
   "metadata": {},
   "outputs": [],
   "source": [
    "query =\"Please list all women leather shoes\""
   ]
  },
  {
   "cell_type": "code",
   "execution_count": 54,
   "metadata": {},
   "outputs": [
    {
     "data": {
      "text/markdown": [
       "| Name | Description |\n",
       "| --- | --- |\n",
       "| Tropical Breeze Shirt | A lightweight, breathable long-sleeve men's UPF shirt offering superior SunSmart protection from the sun's harmful rays. The wrinkle-resistant and moisture-wicking fabric keeps you cool and comfortable. It has a traditional fit and is UPF 50+ rated. |\n",
       "| Sun Shield Shirt by | A high-performance sun shirt that blocks 98% of the sun's harmful UV rays. It has a slightly fitted design, falls at the hip, and is made of 78% nylon and 22% Lycra Xtra Life fiber. It is UPF 50+ rated and hand washable. |\n",
       "| Men's Tropical Plaid Short-Sleeve Shirt | A lightest hot-weather shirt rated UPF 50+ for superior protection from the sun's UV rays. It has a traditional fit, is made of 100% polyester, and is wrinkle-resistant. It features front and back cape venting and two front bellows pockets. |\n",
       "| Men's Plaid Tropic Shirt, Short-Sleeve | A Ultracomfortable sun protection shirt rated to UPF 50+. It is originally designed for fishing and offers UPF 50+ coverage. The high-performance fabric is wrinkle-free and quickly evaporates perspiration. It is made with 52% polyester and 48% nylon, and is machine washable and dryable. |\n",
       "\n",
       "All shirts are UPF 50+ rated, providing the highest rated sun protection possible. They are designed to block 98% of the sun's harmful UV rays and are recommended by The Skin Cancer Foundation as an effective UV protectant. The fabrics are moisture-wicking, quick-drying, and wrinkle-resistant, ensuring comfort and convenience. The shirts also feature various design elements such as cape venting and pockets for added functionality."
      ],
      "text/plain": [
       "<IPython.core.display.Markdown object>"
      ]
     },
     "metadata": {},
     "output_type": "display_data"
    }
   ],
   "source": [
    "response = index.query(query, \n",
    "                       llm = llm)\n",
    "\n",
    "display(Markdown(response))"
   ]
  },
  {
   "cell_type": "markdown",
   "metadata": {},
   "source": [
    "## Step By Step"
   ]
  },
  {
   "cell_type": "code",
   "execution_count": 61,
   "metadata": {},
   "outputs": [],
   "source": [
    "docs = loader.load()\n",
    "\n",
    "db = DocArrayInMemorySearch.from_documents( docs, embeddings)"
   ]
  },
  {
   "cell_type": "code",
   "execution_count": 63,
   "metadata": {},
   "outputs": [
    {
     "data": {
      "text/plain": [
       "[Document(metadata={'source': 'OutdoorClothingCatalog_1000.csv', 'row': 709}, page_content=\": 709\\nname: Sunrise Tee\\ndescription: Stay cool, comfortable and dry on the hottest days in our women's UV-protective button down shirt. The lightweight, high-performance fabric wicks away moisture and dries quickly.\\n\\nSize & Fit\\nSlightly Fitted: Softly shapes the body. Falls at hip.\\n\\nWhy We Love It\\nOur lightest hot-weather shirt lets you beat the heat. Originally designed for fishing, it's also a great choice for travel thanks to its wrinkle-free fabric and built-in sun protection with a rating of UPF 50+.\\n\\nFabric & Care\\nLightweight performance synthetic wicks moisture, resists wrinkles and dries fast. Shell: 71% nylon, 29% polyester. Cape lining: 100% polyester. Machine wash and dry.\\n\\nAdditional Features\\nBuilt-in SunSmartâ\\x84¢ UPF 50+ rated â\\x80\\x93 the highest rated sun protection possible. The high-performance fabric keeps you cool and comfortable by wicking perspiration away. Smoother buttons, low-profile pockets and side shaping for a flattering fit. Front and back cape venting. Two front pockets, tool tabs and eyewear loop. Wrinkle free. Imported.\\n\\nSun Protection That Won't Wear Off\\nOur\"),\n",
       " Document(metadata={'source': 'OutdoorClothingCatalog_1000.csv', 'row': 255}, page_content=': 255\\nname: Sun Shield Shirt by\\ndescription: \"Block the sun, not the fun â\\x80\\x93 our high-performance sun shirt is guaranteed to protect from harmful UV rays. \\n\\nSize & Fit: Slightly Fitted: Softly shapes the body. Falls at hip.\\n\\nFabric & Care: 78% nylon, 22% Lycra Xtra Life fiber. UPF 50+ rated â\\x80\\x93 the highest rated sun protection possible. Handwash, line dry.\\n\\nAdditional Features: Wicks moisture for quick-drying comfort. Fits comfortably over your favorite swimsuit. Abrasion resistant for season after season of wear. Imported.\\n\\nSun Protection That Won\\'t Wear Off\\nOur high-performance fabric provides SPF 50+ sun protection, blocking 98% of the sun\\'s harmful rays. This fabric is recommended by The Skin Cancer Foundation as an effective UV protectant.'),\n",
       " Document(metadata={'source': 'OutdoorClothingCatalog_1000.csv', 'row': 619}, page_content=\": 619\\nname: Tropical Breeze Shirt\\ndescription: Beat the heat in this lightweight, breathable long-sleeve menâ\\x80\\x99s UPF shirt, offering superior SunSmartâ\\x84¢ protection from the sunâ\\x80\\x99s harmful rays. The wrinkle-resistant and moisture-wicking fabric keeps you cool and comfortable.\\n\\nSize & Fit\\n\\nTraditional Fit: Relaxed through the chest, sleeve and waist.\\n\\nWhy We Love It\\n\\nWhen you spend a lot of time outdoors, limiting sun exposure is important. Originally designed for fishing, our lightest hot-weather shirt offers UPF 50+ coverage and is also a great choice for extended travel. Innovative SunSmart technology blocks 98% of the sun's harmful UV rays. The high-performance fabric is wrinkle free, dries quickly and keeps you cool by wicking perspiration away from your skin.\\n\\nFabric & Care\\n\\nShell: 71% nylon, 29% polyester.\\nCape lining: 100% polyester.\\nPolyester-mesh inserts.\\nUPF 50+ rated â\\x80\\x93 the highest rated sun protection possible.\\nMachine wash and dry.\\n\\nAdditional Features\\n\\nWrinkle-resistant fabric. \\nFront and back cape venting lets in cool breezes.\\nTwo front bell\"),\n",
       " Document(metadata={'source': 'OutdoorClothingCatalog_1000.csv', 'row': 618}, page_content=\": 618\\nname: Men's Tropical Plaid Short-Sleeve Shirt\\ndescription: Our lightest hot-weather shirt is rated UPF 50+ for superior protection from the sun's UV rays. With a traditional fit that is relaxed through the chest, sleeve, and waist, this fabric is made of 100% polyester and is wrinkle-resistant. With front and back cape venting that lets in cool breezes and two front bellows pockets, this shirt is imported and provides the highest rated sun protection possible. \\n\\nSun Protection That Won't Wear Off. Our high-performance fabric provides SPF 50+ sun protection, blocking 98% of the sun's harmful rays.\")]"
      ]
     },
     "execution_count": 63,
     "metadata": {},
     "output_type": "execute_result"
    }
   ],
   "source": [
    "docs = db.similarity_search(\"pleae suggest a shirt with sunblocking\")\n",
    "list( docs )"
   ]
  },
  {
   "cell_type": "code",
   "execution_count": 81,
   "metadata": {},
   "outputs": [
    {
     "data": {
      "text/markdown": [
       "| Name | Description | Size & Fit | Fabric & Care | Additional Features |\n",
       "| --- | --- | --- | --- | --- | --- |\n",
       "| Sunrise Tee | UV-protective button-down shirt for women, slightly fitted, wicks moisture, dries quickly, UPF 50+ | Slightly Fitted: Softly shapes the body. Falls at hip. | Shell: 71% nylon, 29% polyester. Cape lining: 100% polyester. Machine wash and dry. | Built-in SunSmart UPF 50+ rated, wrinkle-free, fast-drying, smooth buttons, low-profile pockets, side shaping, front and back cape venting, two front pockets, tool tabs, eyewear loop. |\n",
       "| Sun Shield Shirt | High-performance sun shirt for men, slightly fitted, wicks moisture, quick-drying, UPF 50+ | Slightly Fitted: Softly shapes the body. Falls at hip. | 78% nylon, 22% Lycra Xtra Life fiber. UPF 50+ rated. Handwash, line dry. | Wicks moisture, fits over swimsuits, abrasion-resistant, recommended by The Skin Cancer Foundation. |\n",
       "| Tropical Breeze Shirt | Lightweight, breathable long-sleeve men's UPF shirt, traditional fit, wrinkle-resistant, moisture-wicking | Traditional Fit: Relaxed through the chest, sleeve, and waist. | Shell: 71% nylon, 29% polyester. Cape lining: 100% polyester. Polyester-mesh inserts. UPF 50+ rated. Machine wash and dry. | Wrinkle-resistant, front and back cape venting, two front bell pockets. |\n",
       "| Men's Tropical Plaid Short-Sleeve Shirt | Lightweight hot-weather shirt for men, traditional fit, UPF 50+, wrinkle-resistant | Traditional Fit: Relaxed through the chest, sleeve, and waist. | 100% polyester. UPF 50+ rated. Machine wash and dry. | Front and back cape venting, two front bellows pockets. |\n",
       "\n",
       "All shirts listed above offer sun protection with UPF 50+ rating, ensuring 98% of harmful UV rays are blocked. They are designed for outdoor activities, particularly fishing, and are lightweight, breathable, and moisture-wicking to keep users cool and comfortable. The Sunrise Tee and Tropical Breeze Shirt are slightly fitted, while the Sun Shield Shirt and Men's Tropical Plaid Short-Sleeve Shirt have a traditional fit. The Sunrise Tee and Tropical Breeze Shirt are machine washable, while the Sun Shield Shirt requires hand washing and line drying. The Sun Shield Shirt and Men's Tropical Plaid Short-Sleeve Shirt are made of nylon and Lycra Xtra Life fiber or 100% polyester, respectively, and are abrasion-resistant for long-lasting use. The Sunrise Tee and Tropical Breeze Shirt have additional features like cape venting, pockets, and smooth buttons, while the Sun Shield Shirt is recommended by The Skin Cancer Foundation."
      ],
      "text/plain": [
       "<IPython.core.display.Markdown object>"
      ]
     },
     "metadata": {},
     "output_type": "display_data"
    }
   ],
   "source": [
    "retriever = db.as_retriever()\n",
    "\n",
    "qdocs = \"\".join([docs[i].page_content for i in range(len(docs))])\n",
    "\n",
    "response = llm.invoke(f\"{qdocs} Question: Please list all your \\\n",
    "shirts with sun protection in a table in markdown and summarize each one.\") \n",
    "\n",
    "display(Markdown(response.content))"
   ]
  },
  {
   "cell_type": "code",
   "execution_count": 82,
   "metadata": {},
   "outputs": [
    {
     "name": "stdout",
     "output_type": "stream",
     "text": [
      "\n",
      "\n",
      "\u001b[1m> Entering new RetrievalQA chain...\u001b[0m\n",
      "\n",
      "\u001b[1m> Finished chain.\u001b[0m\n"
     ]
    },
    {
     "data": {
      "text/markdown": [
       "| Name | Description | Sun Protection | Fabric | Care | Additional Features |\n",
       "| --- | --- | --- | --- | --- | --- | --- |\n",
       "| Sun Shield Shirt | High-performance sun shirt with UPF 50+ rating, blocking 98% of UV rays. Slightly fitted, made of 78% nylon and 22% Lycra Xtra Life fiber. Wicks moisture, abrasion resistant, handwash, line dry. | UPF 50+ | 78% nylon, 22% Lycra Xtra Life fiber | Handwash, line dry | Wicks moisture, abrasion resistant |\n",
       "| Tropical Breeze Shirt | Lightweight, breathable long-sleeve men's UPF shirt with UPF 50+ rating. Traditional fit, made of 71% nylon and 29% polyester. Wrinkle-resistant, moisture-wicking, machine wash and dry. | UPF 50+ | 71% nylon, 29% polyester | Machine wash and dry | Wrinkle-resistant, moisture-wicking, front and back cape venting, two front pockets |\n",
       "| Sunrise Tee | Women's UV-protective button-down shirt with UPF 50+ rating. Slightly fitted, made of 71% nylon and 29% polyester. Wicks moisture, resists wrinkles, machine wash and dry. | UPF 50+ | 71% nylon, 29% polyester | Machine wash and dry | Built-in SunSmart UPF 50+ rating, wrinkle-free, front and back cape venting, two front pockets, tool tabs, eyewear loop |\n",
       "| Men's Tropical Plaid Short-Sleeve Shirt | Lightweight hot-weather shirt with UPF 50+ rating. Traditional fit, made of 100% polyester. Wrinkle-resistant, front and back cape venting, two front bellows pockets. | UPF 50+ | 100% polyester | Imported | Wrinkle-resistant, front and back cape venting, two front bellows pockets |\n",
       "\n",
       "All shirts offer UPF 50+ sun protection, blocking 98% of the sun's harmful rays. They are designed for outdoor activities, providing comfort and protection from the sun. The fabrics are moisture-wicking, quick-drying, and wrinkle-resistant, ensuring long-lasting performance. Additional features include venting for cool breezes, pockets for convenience, and flattering fits for a comfortable wear."
      ],
      "text/plain": [
       "<IPython.core.display.Markdown object>"
      ]
     },
     "metadata": {},
     "output_type": "display_data"
    }
   ],
   "source": [
    "qa_stuff = RetrievalQA.from_chain_type(\n",
    "    llm=llm, \n",
    "    chain_type=\"stuff\", \n",
    "    retriever=retriever, \n",
    "    verbose=True\n",
    ")\n",
    "\n",
    "query =  \"Please list all your shirts with sun protection in a table \\\n",
    "in markdown and summarize each one.\"\n",
    "\n",
    "response = qa_stuff.invoke(query)\n",
    "\n",
    "display(Markdown(response['result']))"
   ]
  }
 ],
 "metadata": {
  "kernelspec": {
   "display_name": ".venv",
   "language": "python",
   "name": "python3"
  },
  "language_info": {
   "codemirror_mode": {
    "name": "ipython",
    "version": 3
   },
   "file_extension": ".py",
   "mimetype": "text/x-python",
   "name": "python",
   "nbconvert_exporter": "python",
   "pygments_lexer": "ipython3",
   "version": "3.10.8"
  }
 },
 "nbformat": 4,
 "nbformat_minor": 2
}
